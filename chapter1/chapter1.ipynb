{
 "cells": [
  {
   "cell_type": "markdown",
   "metadata": {},
   "source": [
    "# Video Game Title generator"
   ]
  },
  {
   "cell_type": "code",
   "execution_count": 1,
   "metadata": {},
   "outputs": [],
   "source": [
    "import random\n",
    "import csv\n",
    "\n",
    "# Generate 2000 unique game titles\n",
    "prefixes = [\"Dragon\", \"Cyber\", \"Pixel\", \"Dungeon\", \"Mystic\", \"Retro\", \"Space\", \"Alien\", \"Galaxy\", \"Battle\", \"Quest\", \"Hero\", \"Ninja\", \"Warrior\", \"Shadow\", \"Legend\", \"Knight\", \"Phantom\", \"Blaze\", \"Thunder\"]\n",
    "suffixes = [\"Quest\", \"Racer\", \"Battle\", \"Hero\", \"Crawler\", \"Runner\", \"Invader\", \"Attack\", \"Storm\", \"Defender\", \"Saga\", \"Legacy\", \"Strike\", \"Blitz\", \"Commander\", \"Force\", \"Arena\", \"Odyssey\", \"Chronicles\", \"Voyager\"]\n",
    "\n",
    "game_titles = set()\n",
    "\n",
    "while len(game_titles) < 2000:\n",
    "    title = f\"{random.choice(prefixes)}{random.choice(suffixes)}\"\n",
    "    game_titles.add(title)\n",
    "\n",
    "# Convert the set to a list and write to a CSV file\n",
    "game_titles_list = list(game_titles)\n",
    "\n",
    "# Save the game titles to a CSV file\n",
    "with open('fantasy_video_game_titles.csv', 'w', newline='') as csvfile:\n",
    "    writer = csv.writer(csvfile)\n",
    "    writer.writerow([\"GameTitle\"])\n",
    "    for title in game_titles_list:\n",
    "        writer.writerow([title])\n",
    "\n",
    "# Display the first few titles as a check\n",
    "print(game_titles_list[:10])"
   ]
  },
  {
   "cell_type": "markdown",
   "metadata": {},
   "source": [
    "# Dataset generator"
   ]
  },
  {
   "cell_type": "code",
   "execution_count": null,
   "metadata": {},
   "outputs": [],
   "source": [
    "import random\n",
    "import pandas as pd\n",
    "\n",
    "# Load the game titles from the CSV file\n",
    "game_titles_list = []\n",
    "with open('fantasy_video_game_titles.csv', 'r') as csvfile:\n",
    "    reader = csv.reader(csvfile)\n",
    "    next(reader)  # Skip the header\n",
    "    for row in reader:\n",
    "        game_titles_list.append(row[0])\n",
    "\n",
    "# Define other lists of data\n",
    "genres = [\"Action\", \"Adventure\", \"RPG\", \"Puzzle\", \"Shooter\", \"Platformer\", \"Strategy\"]\n",
    "platforms = [\"Arcade\", \"NES\", \"Sega Genesis\", \"PC\", \"Atari\", \"SNES\", \"Commodore 64\"]\n",
    "developers = [\n",
    "    \"PixelForge Studios\", \"RetroWave Entertainment\", \"HighScore Games\", \n",
    "    \"8-Bit Games Inc.\", \"SynthWave Studios\", \"NeonArcade Productions\"\n",
    "]\n",
    "publishers = [\n",
    "    \"8-Bit Games Inc.\", \"HighScore Productions\", \"Arcade Legends\", \n",
    "    \"SynthWave Records\", \"PixelMania\", \"RetroWorld\"\n",
    "]\n",
    "soundtrack_composers = [\"Chip Masters\", \"Synthwave Legends\", \"RetroSound Crew\", \"Pixel Beats\"]\n",
    "\n",
    "# Generate the dataset\n",
    "def generate_dataset(num_records=1000000):\n",
    "    data = []\n",
    "    for i in range(num_records):\n",
    "        game = {\n",
    "            \"GameID\": i + 1,\n",
    "            \"GameTitle\": random.choice(game_titles_list),\n",
    "            \"Genre\": random.choice(genres),\n",
    "            \"Platform\": random.choice(platforms),\n",
    "            \"ReleaseYear\": random.randint(1980, 1999),\n",
    "            \"DeveloperName\": random.choice(developers),\n",
    "            \"PublisherName\": random.choice(publishers),\n",
    "            \"GameDescription\": f\"A thrilling {random.choice(genres)} game where you {random.choice(['fight', 'solve puzzles', 'race', 'explore dungeons', 'save the world'])}.\",\n",
    "            \"SalesFigures\": random.randint(50000, 5000000),\n",
    "            \"UserRating\": round(random.uniform(1.0, 5.0), 1),\n",
    "            \"CriticRating\": random.randint(50, 100),\n",
    "            \"GameKeywords\": random.choice([\"8-bit\", \"Multiplayer\", \"Side-Scroller\", \"Fantasy\", \"Sci-Fi\", \"Adventure\"]),\n",
    "            \"PriceAtLaunch\": round(random.uniform(19.99, 59.99), 2),\n",
    "            \"UnitsShipped\": random.randint(10000, 2000000),\n",
    "            \"LegacyScore\": random.randint(1, 10),\n",
    "            \"GameModes\": random.choice([\"Single Player\", \"Co-op\", \"Multiplayer\"]),\n",
    "            \"SoundtrackComposer\": random.choice(soundtrack_composers),\n",
    "        }\n",
    "        data.append(game)\n",
    "    \n",
    "    df = pd.DataFrame(data)\n",
    "    return df\n",
    "\n",
    "# Generate the dataset\n",
    "df = generate_dataset(1000000)\n",
    "\n",
    "# Display the first few rows of the dataset\n",
    "df.head()\n",
    "\n",
    "# Save the dataset to a CSV file\n",
    "df.to_csv('retro_arcade_games_dataset.csv', index=False)"
   ]
  }
 ],
 "metadata": {
  "kernelspec": {
   "display_name": "Python 3",
   "language": "python",
   "name": "python3"
  },
  "language_info": {
   "codemirror_mode": {
    "name": "ipython",
    "version": 3
   },
   "file_extension": ".py",
   "mimetype": "text/x-python",
   "name": "python",
   "nbconvert_exporter": "python",
   "pygments_lexer": "ipython3",
   "version": "3.11.5"
  }
 },
 "nbformat": 4,
 "nbformat_minor": 2
}
